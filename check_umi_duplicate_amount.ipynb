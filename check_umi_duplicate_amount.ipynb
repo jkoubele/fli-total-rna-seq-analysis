{
 "cells": [
  {
   "cell_type": "code",
   "execution_count": 1,
   "id": "0ff14540",
   "metadata": {},
   "outputs": [],
   "source": [
    "from pathlib import Path\n",
    "from Bio import SeqIO\n",
    "from Bio.Seq import Seq\n",
    "import gzip\n",
    "from tqdm import tqdm\n",
    "import pandas as pd\n",
    "from collections import defaultdict, Counter\n",
    "import matplotlib.pyplot as plt\n",
    "import json"
   ]
  },
  {
   "cell_type": "code",
   "execution_count": null,
   "id": "78874093",
   "metadata": {},
   "outputs": [
    {
     "name": "stderr",
     "output_type": "stream",
     "text": [
      "Processing reads from no010-0_OND1_UMI.fastq.gz: 1319894it [00:14, 82677.42it/s]"
     ]
    }
   ],
   "source": [
    "run_fastq_processing = True\n",
    "if run_fastq_processing:\n",
    "    duplicate_counters_per_file: dict[str, dict] = {}\n",
    "\n",
    "    data_folder = Path('/cellfile/datapublic/jkoubele/FLI_total_RNA/20240219_866_YC')\n",
    "    for file_path in data_folder.iterdir():\n",
    "        if 'UMI' not in file_path.name:\n",
    "            continue    \n",
    "\n",
    "        umi_duplicates = defaultdict(int)\n",
    "        with gzip.open(file_path, mode='rt') as file:        \n",
    "            for read in tqdm(SeqIO.parse(file, \"fastq\"), desc=f'Processing reads from {file_path.name}'):            \n",
    "                umi_duplicates[read.seq] += 1\n",
    "\n",
    "        duplicate_counters_per_file[file_path.name]=dict(Counter(umi_duplicates.values()))       \n",
    "\n",
    "    with open('umi_duplicate_counters.json', 'w') as output_file:\n",
    "        json.dump(duplicate_counters_per_file, output_file)"
   ]
  }
 ],
 "metadata": {
  "kernelspec": {
   "display_name": "Python 3 (ipykernel)",
   "language": "python",
   "name": "python3"
  },
  "language_info": {
   "codemirror_mode": {
    "name": "ipython",
    "version": 3
   },
   "file_extension": ".py",
   "mimetype": "text/x-python",
   "name": "python",
   "nbconvert_exporter": "python",
   "pygments_lexer": "ipython3",
   "version": "3.11.5"
  }
 },
 "nbformat": 4,
 "nbformat_minor": 5
}
