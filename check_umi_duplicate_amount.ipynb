{
 "cells": [
  {
   "cell_type": "code",
   "execution_count": 1,
   "id": "0ff14540",
   "metadata": {},
   "outputs": [],
   "source": [
    "from pathlib import Path\n",
    "from Bio import SeqIO\n",
    "from Bio.Seq import Seq\n",
    "import gzip\n",
    "from tqdm import tqdm\n",
    "import pandas as pd\n",
    "from collections import defaultdict, Counter\n",
    "import matplotlib.pyplot as plt\n",
    "import json"
   ]
  },
  {
   "cell_type": "code",
   "execution_count": 2,
   "id": "78874093",
   "metadata": {},
   "outputs": [
    {
     "name": "stderr",
     "output_type": "stream",
     "text": [
      "Processing reads from no010-0_OND1_UMI.fastq.gz: 61812292it [11:05, 92875.90it/s]\n",
      "Processing reads from no024-0_OD6_UMI.fastq.gz: 64319131it [11:55, 89881.89it/s]\n",
      "Processing reads from no005-0_OD2_UMI.fastq.gz: 56278072it [10:14, 91516.51it/s]\n",
      "Processing reads from no028-0_OND4_UMI.fastq.gz: 66329880it [11:55, 92768.81it/s]\n",
      "Processing reads from no026-0_ON5_UMI.fastq.gz: 65257883it [11:41, 92986.15it/s]\n",
      "Processing reads from no021-0_OA6_UMI.fastq.gz: 72284370it [12:56, 93117.21it/s]\n",
      "Processing reads from no020-0_OA5_UMI.fastq.gz: 53299134it [09:32, 93133.80it/s]\n",
      "Processing reads from no030-0_OND6_UMI.fastq.gz: 64716704it [11:34, 93217.61it/s]\n",
      "Processing reads from no034-0_ON3_UMI.fastq.gz: 58222801it [10:25, 93047.03it/s]\n",
      "Processing reads from no011-0_OND2_UMI.fastq.gz: 55611686it [09:53, 93764.92it/s]\n",
      "Processing reads from no019-0_OA4_UMI.fastq.gz: 52543956it [09:23, 93172.97it/s]\n",
      "Processing reads from no022-0_OD4_UMI.fastq.gz: 70044023it [12:33, 92986.30it/s]\n",
      "Processing reads from no025-0_ON4_UMI.fastq.gz: 55448059it [09:52, 93522.51it/s]\n",
      "Processing reads from no004-0_OD1_UMI.fastq.gz: 53459023it [09:34, 93020.75it/s]\n",
      "Processing reads from no003-1_OA3_UMI.fastq.gz: 53058549it [09:33, 92564.77it/s]\n",
      "Processing reads from no008-0_ON2_UMI.fastq.gz: 64853336it [11:34, 93432.35it/s]\n"
     ]
    }
   ],
   "source": [
    "run_fastq_processing = False\n",
    "if run_fastq_processing:\n",
    "    duplicate_counters_per_file: dict[str, dict] = {}\n",
    "\n",
    "    data_folder = Path('/cellfile/datapublic/jkoubele/FLI_total_RNA/20240219_866_YC')\n",
    "    for file_path in data_folder.iterdir():\n",
    "        if 'UMI' not in file_path.name:\n",
    "            continue    \n",
    "\n",
    "        umi_duplicates = defaultdict(int)\n",
    "        with gzip.open(file_path, mode='rt') as file:        \n",
    "            for read in tqdm(SeqIO.parse(file, \"fastq\"), desc=f'Processing reads from {file_path.name}'):            \n",
    "                umi_duplicates[read.seq] += 1\n",
    "\n",
    "        duplicate_counters_per_file[file_path.name]=dict(Counter(umi_duplicates.values()))       \n",
    "\n",
    "    with open('umi_duplicate_counters.json', 'w') as output_file:\n",
    "        json.dump(duplicate_counters_per_file, output_file)"
   ]
  }
 ],
 "metadata": {
  "kernelspec": {
   "display_name": "Python 3 (ipykernel)",
   "language": "python",
   "name": "python3"
  },
  "language_info": {
   "codemirror_mode": {
    "name": "ipython",
    "version": 3
   },
   "file_extension": ".py",
   "mimetype": "text/x-python",
   "name": "python",
   "nbconvert_exporter": "python",
   "pygments_lexer": "ipython3",
   "version": "3.11.5"
  }
 },
 "nbformat": 4,
 "nbformat_minor": 5
}
